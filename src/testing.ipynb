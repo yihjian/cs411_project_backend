{
 "cells": [
  {
   "cell_type": "code",
   "execution_count": 1,
   "metadata": {},
   "outputs": [],
   "source": [
    "#from mysql.connector import cursor\n",
    "from api.query import *"
   ]
  },
  {
   "cell_type": "code",
   "execution_count": 5,
   "metadata": {},
   "outputs": [
    {
     "name": "stdout",
     "output_type": "stream",
     "text": [
      "(('1 TO 3 hours.',),)\n",
      "3\n"
     ]
    }
   ],
   "source": [
    "res = find_hour('cs', 397, 120205)\n",
    "print(res)"
   ]
  },
  {
   "cell_type": "code",
   "execution_count": 10,
   "metadata": {},
   "outputs": [],
   "source": [
    "db, cursor = connect_to_db()"
   ]
  },
  {
   "cell_type": "code",
   "execution_count": 9,
   "metadata": {},
   "outputs": [
    {
     "name": "stdout",
     "output_type": "stream",
     "text": [
      "901b8cdf-d348-11ea-9ca5-06f7f522912b\n",
      "((None, 173, 'CS'), (None, 173, 'CS'), (3, 411, 'CS'))\n"
     ]
    }
   ],
   "source": [
    "uuid = uuid_finder(cursor, 'jyh@test.com')\n",
    "uuid = uuid[0][0]\n",
    "print(uuid)\n",
    "query = \"SELECT Credits, CourseID, SubjectID\\\n",
    "            FROM Enrollments\\\n",
    "            NATURAL JOIN Sections\\\n",
    "            WHERE UUID = %s AND TermID = %s\" \n",
    "val = (uuid, 120205)\n",
    "cursor.execute(query, val)\n",
    "res = cursor.fetchall()\n",
    "print(res)"
   ]
  },
  {
   "cell_type": "code",
   "execution_count": 2,
   "metadata": {},
   "outputs": [
    {
     "data": {
      "text/plain": [
       "(0, 'success')"
      ]
     },
     "execution_count": 2,
     "metadata": {},
     "output_type": "execute_result"
    }
   ],
   "source": [
    "register('jyh@test.com', 'a', 'pswd')\n",
    "add_schedule('jyh@test.com',40317)\n",
    "add_schedule('jyh@test.com',39529)\n"
   ]
  },
  {
   "cell_type": "code",
   "execution_count": 16,
   "metadata": {},
   "outputs": [
    {
     "name": "stdout",
     "output_type": "stream",
     "text": [
      "((39529, 441, 'MATH', 3),)\n"
     ]
    }
   ],
   "source": [
    "query = \"SELECT CRN, CourseID, SubjectID, Credits\\\n",
    "                FROM Sections NATURAL JOIN Meetings\\\n",
    "                WHERE CourseID = %s AND SubjectID = %s AND TermID = %s\"\n",
    "value = (441, 'math', 120205)\n",
    "cursor.execute(query, value)\n",
    "res = cursor.fetchall()\n",
    "print(res)"
   ]
  },
  {
   "cell_type": "code",
   "execution_count": 3,
   "metadata": {},
   "outputs": [
    {
     "name": "stdout",
     "output_type": "stream",
     "text": [
      "(0, ((39529, 441, 'MATH', 'Online', None, None, None, None, None), (40317, 411, 'CS', 'Online Lecture', datetime.timedelta(0, 39600), datetime.timedelta(0, 44100), 'MTWR', None, None)))\n",
      "(0, ((441, 'MATH', 3), (411, 'CS', 3)))\n"
     ]
    }
   ],
   "source": [
    "sche =  get_schedule('jyh@test.com')\n",
    "print(sche)\n",
    "sections = get_usr_sections('jyh@test.com')\n",
    "print(sections)"
   ]
  },
  {
   "cell_type": "code",
   "execution_count": 1,
   "metadata": {},
   "outputs": [
    {
     "name": "stdout",
     "output_type": "stream",
     "text": [
      "User section query parameters: ('6a93b0cc-d366-11ea-9ca5-06f7f522912b', '120205')\n",
      "Fetched user section in term 120205: ((441, 'MATH', 3, 39529), (411, 'CS', 3, 40317))\n",
      "User Section Raw: ((441, 'MATH', 3, 39529), (411, 'CS', 3, 40317))\n",
      "Parsed credit info: [3, 3]\n",
      "Course IDs: [441, 411]\n",
      "<class 'int'>\n",
      "<class 'int'>\n"
     ]
    },
    {
     "data": {
      "text/plain": [
       "(0, 1.3413635776906019)"
      ]
     },
     "execution_count": 1,
     "metadata": {},
     "output_type": "execute_result"
    }
   ],
   "source": [
    "from api.difficulty import calculate_difficulty\n",
    "calculate_difficulty('jyh@test.com')"
   ]
  },
  {
   "cell_type": "code",
   "execution_count": 15,
   "metadata": {
    "scrolled": true
   },
   "outputs": [
    {
     "name": "stdout",
     "output_type": "stream",
     "text": [
      "((38251, 104, 'CHEM', None),)\n"
     ]
    },
    {
     "data": {
      "text/plain": [
       "(0, 'Success')"
      ]
     },
     "execution_count": 15,
     "metadata": {},
     "output_type": "execute_result"
    }
   ],
   "source": [
    "# res = delete_schedule('jyh@test.com',40317)\n",
    "# print(res)\n",
    "# res = delete_schedule('jyh@test.com',36797)\n",
    "# print(res)\n",
    "# res = delete_schedule('jyh@test.com',36796)\n",
    "print(res)\n",
    "delete_account('jyh@test.com')"
   ]
  },
  {
   "cell_type": "code",
   "execution_count": null,
   "metadata": {},
   "outputs": [],
   "source": []
  },
  {
   "cell_type": "code",
   "execution_count": 2,
   "metadata": {},
   "outputs": [
    {
     "name": "stdout",
     "output_type": "stream",
     "text": [
      "(1, '(1062, \"Duplicate entry \\'jyh@test.com\\' for key \\'Email\\'\")')\n",
      "(1, '(1062, \"Duplicate entry \\'jyh@test.com\\' for key \\'Email\\'\")')\n",
      "(1, 'Empty field')\n",
      "(1, '(1062, \"Duplicate entry \\'164c6eb0-cedf-11ea-8f1c-06f7f522912b-120205-40317\\' for key \\'PRIMARY\\'\")')\n",
      "(1, '(1062, \"Duplicate entry \\'164c6eb0-cedf-11ea-8f1c-06f7f522912b-120205-40317\\' for key \\'PRIMARY\\'\")')\n",
      "(1, '(1062, \"Duplicate entry \\'164c6eb0-cedf-11ea-8f1c-06f7f522912b-120201-70363\\' for key \\'PRIMARY\\'\")')\n",
      "(1, \"User doesn't exist\")\n",
      "(1, 'Empty field')\n",
      "(1, \"(1452, 'Cannot add or update a child row: a foreign key constraint fails (`illini_db`.`Enrollments`, CONSTRAINT `Enrollments_ibfk_3` FOREIGN KEY (`CRN`) REFERENCES `Sections` (`CRN`) ON DELETE CASCADE ON UPDATE CASCADE)')\")\n"
     ]
    }
   ],
   "source": [
    "# Insert queries\n",
    "# Insert into users\n",
    "res = register('jyh@test.com', 'a', 'pswd')#register\n",
    "print(res)\n",
    "res = register('jyh@test.com', 'a', 'pswd')#register duplicate\n",
    "print(res)\n",
    "res = register('', 'a', 'pswd')#invalid entry\n",
    "print(res)\n",
    "\n",
    "# Insert into enrollments\n",
    "res = add_schedule('jyh@test.com',40317) # add cs411 su20\n",
    "print(res)\n",
    "res = add_schedule('jyh@test.com',40317) # add duplicate\n",
    "print(res)\n",
    "res = add_schedule('jyh@test.com',70363,120201) \n",
    "# add npre412 sp20, intended to add fa20 data, but api is closed\n",
    "print(res)\n",
    "res = add_schedule('wtf@test.com',40317) # email does not exists\n",
    "print(res)\n",
    "res = add_schedule('',40317) #E-mail does not exist\n",
    "print(res)\n",
    "res = add_schedule('jyh@test.com',0) #crn does not exist\n",
    "print(res)"
   ]
  },
  {
   "cell_type": "code",
   "execution_count": 3,
   "metadata": {},
   "outputs": [
    {
     "name": "stdout",
     "output_type": "stream",
     "text": [
      "(0, 'Success')\n",
      "(0, 'Success')\n",
      "(1, 'Empty field')\n",
      "(0, 'Success')\n"
     ]
    }
   ],
   "source": [
    "# Update queries\n",
    "res = update_name('jyh@test.com', 'xs')#change name\n",
    "print(res)\n",
    "res = update_name('jyh@test.com', 'xsw')#change name again\n",
    "print(res)\n",
    "res = update_name('','')#invalid input\n",
    "print(res)\n",
    "res = update_name('2333@666.com', 'hh')\n",
    "#This entry dne, function returns success but no entry modified.\n",
    "#Does not affect db so I'm not enforcing it\n",
    "print(res)"
   ]
  },
  {
   "cell_type": "code",
   "execution_count": 4,
   "metadata": {},
   "outputs": [
    {
     "name": "stdout",
     "output_type": "stream",
     "text": [
      "(0, ((36796, 173, 'CS', 'Online Lecture', datetime.timedelta(0, 39600), datetime.timedelta(0, 44100), 'MTWR', None, None), (36797, 173, 'CS', 'Online Discussion', datetime.timedelta(0, 46800), datetime.timedelta(0, 49800), 'MW', None, None), (40317, 411, 'CS', 'Online Lecture', datetime.timedelta(0, 39600), datetime.timedelta(0, 44100), 'MTWR', None, None)))\n",
      "(1, \"User doesn't exist\")\n",
      "(0, ((Decimal('6'),),))\n",
      "(0, ((40317, 411, 'CS', 'Online Lecture', datetime.timedelta(0, 39600), datetime.timedelta(0, 44100), 'MTWR', None, None), (40318, 411, 'CS', 'Online Lecture', datetime.timedelta(0, 39600), datetime.timedelta(0, 44100), 'MTWR', None, None)))\n",
      "(0, ((31352, 411, 'CS', 'Lecture-Discussion', datetime.timedelta(0, 50400), datetime.timedelta(0, 54900), 'TR', 'Natural History Building', 2079), (31355, 411, 'CS', 'Lecture-Discussion', datetime.timedelta(0, 50400), datetime.timedelta(0, 54900), 'TR', 'Natural History Building', 2079), (40658, 411, 'CS', 'Online', None, None, None, None, None), (67992, 411, 'CS', 'Online', None, None, None, None, None), (69453, 411, 'CS', 'Online', None, None, None, None, None)))\n"
     ]
    },
    {
     "data": {
      "text/plain": [
       "(0, 'Success')"
      ]
     },
     "execution_count": 4,
     "metadata": {},
     "output_type": "execute_result"
    }
   ],
   "source": [
    "# Search query\n",
    "add_schedule('jyh@test.com',36797)\n",
    "add_schedule('jyh@test.com',36796)\n",
    "\n",
    "res = get_schedule('jyh@test.com')\n",
    "print(res)\n",
    "res = get_schedule('zch@test.com') # this account does not exist\n",
    "print(res)\n",
    "\n",
    "res = get_total_credit_hour('jyh@test.com')\n",
    "print(res)\n",
    "res = get_total_credit_hour('zch@test.com')\n",
    "\n",
    "res = get_class_section('CS', 411) # get all sections on cs411 summer\n",
    "print(res)\n",
    "res = get_class_section('CS', 411, 120201) \n",
    "# get all sections on cs233 sp20, fa20 data can't be requested now\n",
    "print(res)\n",
    "\n",
    "delete_schedule('jyh@test.com', 36797)\n",
    "delete_schedule('jyh@test.com', 36796)"
   ]
  },
  {
   "cell_type": "code",
   "execution_count": 5,
   "metadata": {},
   "outputs": [
    {
     "name": "stdout",
     "output_type": "stream",
     "text": [
      "(0, 'Success')\n",
      "(0, 'Success')\n",
      "(0, 'Success')\n",
      "(1, \"User doesn't exist\")\n",
      "(1, 'Empty field')\n",
      "(0, 'Success')\n",
      "(0, 'Success')\n",
      "(0, 'Success')\n",
      "(1, 'Empty field')\n"
     ]
    }
   ],
   "source": [
    "# Delete queries\n",
    "# Delete schedule\n",
    "res = delete_schedule('jyh@test.com',40317) # delete cs411 su20\n",
    "print(res)\n",
    "res = delete_schedule('jyh@test.com',40317) # double delete\n",
    "print(res)\n",
    "res = delete_schedule('jyh@test.com',70363,120208) # delete cs498dl fa20\n",
    "print(res)\n",
    "# email does not exist,would say success, but db not altered\n",
    "res = delete_schedule('wtf@test.com',40317)\n",
    "print(res)\n",
    "res = delete_schedule('',0) #invalid entry\n",
    "print(res)\n",
    "\n",
    "# Delete account\n",
    "res = delete_account('jyh@test.com') \n",
    "print(res)\n",
    "res = delete_account('jyh@test.com') #delete twice\n",
    "print(res)\n",
    "#invalid delete, would say success, but db not altered\n",
    "res = delete_account('wtf@test.com')\n",
    "print(res)\n",
    "res = delete_account('')\n",
    "print(res)"
   ]
  },
  {
   "cell_type": "code",
   "execution_count": 7,
   "metadata": {},
   "outputs": [
    {
     "data": {
      "text/plain": [
       "0"
      ]
     },
     "execution_count": 7,
     "metadata": {},
     "output_type": "execute_result"
    }
   ],
   "source": [
    "len(())"
   ]
  },
  {
   "cell_type": "code",
   "execution_count": null,
   "metadata": {},
   "outputs": [],
   "source": []
  }
 ],
 "metadata": {
  "kernelspec": {
   "display_name": "Python 3",
   "language": "python",
   "name": "python3"
  },
  "language_info": {
   "codemirror_mode": {
    "name": "ipython",
    "version": 3
   },
   "file_extension": ".py",
   "mimetype": "text/x-python",
   "name": "python",
   "nbconvert_exporter": "python",
   "pygments_lexer": "ipython3",
   "version": "3.6.9"
  }
 },
 "nbformat": 4,
 "nbformat_minor": 4
}
