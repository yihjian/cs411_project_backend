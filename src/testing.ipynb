{
 "cells": [
  {
   "cell_type": "code",
   "execution_count": 1,
   "metadata": {},
   "outputs": [],
   "source": [
    "#from mysql.connector import cursor\n",
    "from api.query import *\n",
    "from api.difficulty import calculate_difficulty, diff_breakdown"
   ]
  },
  {
   "cell_type": "code",
   "execution_count": 4,
   "metadata": {},
   "outputs": [],
   "source": [
    "db, cursor = connect_to_db()"
   ]
  },
  {
   "cell_type": "code",
   "execution_count": 25,
   "metadata": {},
   "outputs": [
    {
     "name": "stdout",
     "output_type": "stream",
     "text": [
      "((Decimal('2.9337'),),)\n"
     ]
    }
   ],
   "source": [
    "cursor.execute(\"SELECT AVG(DifficultyRating) FROM Comments\")\n",
    "res = cursor.fetchall()\n",
    "print(res)"
   ]
  },
  {
   "cell_type": "code",
   "execution_count": 2,
   "metadata": {},
   "outputs": [
    {
     "name": "stdout",
     "output_type": "stream",
     "text": [
      "Parsed credit info: [3, 3, 3]\n",
      "Course IDs: [421, 173, 441]\n",
      "[421, 173, 441] ['CS', 'CS', 'MATH'] [3, 3, 3] [30792, 36796, 39529] [3.299189036450975, 2.955553586198748, 2.9311658536585368] [2.9337, 3.6818, 2.9337]\n",
      "(0, 7.637299080900378)\n",
      "Parsed credit info: [3, 3, 3]\n",
      "Course IDs: [421, 173, 441]\n",
      "[421, 173, 441] ['CS', 'CS', 'MATH'] [3, 3, 3] [30792, 36796, 39529] [3.299189036450975, 2.955553586198748, 2.9311658536585368] [2.9337, 3.6818, 2.9337]\n",
      "(0, [(421, 'CS', 0.25843303213687124), (173, 'CS', 0.3474206664245589), (441, 'MATH', 0.3941463014385699)])\n"
     ]
    }
   ],
   "source": [
    "#register('bench1@test.com', 'a', 'pswd')\n",
    "#add_schedule('bench1@test.com',36796) #cs173\n",
    "#add_schedule('bench1@test.com',30792) #cs421\n",
    "#add_schedule('bench1@test.com',39529) #math441\n",
    "dif = calculate_difficulty('bench1@test.com')\n",
    "print(dif)\n",
    "breakdown = diff_breakdown('bench1@test.com')\n",
    "print(breakdown)"
   ]
  },
  {
   "cell_type": "code",
   "execution_count": 9,
   "metadata": {},
   "outputs": [
    {
     "name": "stdout",
     "output_type": "stream",
     "text": [
      "Parsed credit info: [3, 3, 3, 3, 4]\n",
      "Course IDs: [411, 441, 102, 421, 374]\n",
      "(0, 5.074699251421847)\n",
      "Parsed credit info: [3, 3, 3, 3, 4]\n",
      "Course IDs: [411, 441, 102, 421, 374]\n",
      "(0, [(411, 'CS', 0.08283782784157702), (441, 'MATH', 0.228978336036489), (102, 'ECON', 0.0675540215149498), (421, 'CS', 0.17676673806657944), (374, 'CS', 0.4438630765404047)])\n"
     ]
    }
   ],
   "source": [
    "register('bench2@test.com', 'a', 'pswd')\n",
    "add_schedule('bench2@test.com',36218, 120208) #Econ 102\n",
    "add_schedule('bench2@test.com',66445, 120208) #CS374\n",
    "add_schedule('bench2@test.com',30109, 120208) #cs411\n",
    "add_schedule('bench2@test.com',65906, 120208) #cs421\n",
    "add_schedule('bench2@test.com',32116, 120208) #math441\n",
    "dif = calculate_difficulty('bench2@test.com',120208)\n",
    "print(dif)\n",
    "breakdown = diff_breakdown('bench2@test.com',120208)\n",
    "print(breakdown)"
   ]
  },
  {
   "cell_type": "code",
   "execution_count": 2,
   "metadata": {},
   "outputs": [
    {
     "data": {
      "text/plain": [
       "(0, 'Success')"
      ]
     },
     "execution_count": 2,
     "metadata": {},
     "output_type": "execute_result"
    }
   ],
   "source": [
    "delete_account('bench1@test.com')\n",
    "delete_account('bench2@test.com')\n",
    "delete_account('bench3@test.com')\n",
    "delete_account('bench4@test.com')\n",
    "delete_account('bench5@test.com')"
   ]
  },
  {
   "cell_type": "code",
   "execution_count": 3,
   "metadata": {},
   "outputs": [
    {
     "data": {
      "text/plain": [
       "(0, 'success')"
      ]
     },
     "execution_count": 3,
     "metadata": {},
     "output_type": "execute_result"
    }
   ],
   "source": [
    "register('bench1@test.com', 'a', 'pswd')\n",
    "add_schedule('bench1@test.com',36218, 120208) #Econ 102\n",
    "add_schedule('bench1@test.com',35876, 120208) #CS 125\n",
    "add_schedule('bench1@test.com',46860, 120208) #MATH 231\n",
    "add_schedule('bench1@test.com',55650, 120208) #phys 211"
   ]
  },
  {
   "cell_type": "code",
   "execution_count": 4,
   "metadata": {},
   "outputs": [
    {
     "name": "stdout",
     "output_type": "stream",
     "text": [
      "Parsed credit info: [4, 3, 3, 4]\n",
      "Course IDs: [125, 102, 231, 211]\n",
      "[125, 102, 231, 211] ['CS', 'ECON', 'MATH', 'PHYS'] [4, 3, 3, 4] [35876, 36218, 46860, 55650] [3.535822281167109, 3.6273735408560315, 3.3043478260869565, 2.9152363367799112] [3.1348, 2.1224, 3.3738, 2.6593]\n",
      "(0, 5.222890344922625)\n",
      "Parsed credit info: [4, 3, 3, 4]\n",
      "Course IDs: [125, 102, 231, 211]\n",
      "[125, 102, 231, 211] ['CS', 'ECON', 'MATH', 'PHYS'] [4, 3, 3, 4] [35876, 36218, 46860, 55650] [3.535822281167109, 3.6273735408560315, 3.3043478260869565, 2.9152363367799112] [3.1348, 2.1224, 3.3738, 2.6593]\n",
      "(0, [(125, 'CS', 0.19935474542181414), (102, 'ECON', 0.08126333472462163), (231, 'MATH', 0.27261560118498745), (211, 'PHYS', 0.44676631866857675)])\n"
     ]
    }
   ],
   "source": [
    "dif = calculate_difficulty('bench1@test.com', 120208)\n",
    "print(dif)\n",
    "breakdown = diff_breakdown('bench1@test.com', 120208)\n",
    "print(breakdown)"
   ]
  },
  {
   "cell_type": "code",
   "execution_count": 5,
   "metadata": {},
   "outputs": [
    {
     "data": {
      "text/plain": [
       "(0, 'success')"
      ]
     },
     "execution_count": 5,
     "metadata": {},
     "output_type": "execute_result"
    }
   ],
   "source": [
    "register('bench2@test.com', 'a', 'pswd')\n",
    "add_schedule('bench2@test.com',66322, 120208) #CS 126\n",
    "add_schedule('bench2@test.com',40083, 120208) #CS 173\n",
    "add_schedule('bench2@test.com',63037, 120208) #MATH 415\n",
    "add_schedule('bench2@test.com',34083, 120208) #HIST 142\n",
    "add_schedule('bench2@test.com',68430, 120208) #MATH 347H"
   ]
  },
  {
   "cell_type": "code",
   "execution_count": 6,
   "metadata": {},
   "outputs": [
    {
     "name": "stdout",
     "output_type": "stream",
     "text": [
      "Parsed credit info: [3, 3, 3, 3, 3]\n",
      "Course IDs: [142, 173, 415, 126, 347]\n",
      "[142, 173, 415, 126, 347] ['HIST', 'CS', 'MATH', 'CS', 'MATH'] [3, 3, 3, 3, 3] [34083, 40083, 63037, 66322, 68430] [3.217227586206896, 2.955553586198748, 2.9433557046979866, 3.4245578231292515, 3.0236677571792065] [3.0, 3.6818, 2.1667, 4.0, 3.25]\n",
      "(0, 9.016956837088753)\n",
      "Parsed credit info: [3, 3, 3, 3, 3]\n",
      "Course IDs: [142, 173, 415, 126, 347]\n",
      "[142, 173, 415, 126, 347] ['HIST', 'CS', 'MATH', 'CS', 'MATH'] [3, 3, 3, 3, 3] [34083, 40083, 63037, 66322, 68430] [3.217227586206896, 2.955553586198748, 2.9433557046979866, 3.4245578231292515, 3.0236677571792065] [3.0, 3.6818, 2.1667, 4.0, 3.25]\n",
      "(0, [(142, 'HIST', 0.14974923781813965), (173, 'CS', 0.2452190526793768), (415, 'MATH', 0.20312229378443353), (126, 'CS', 0.1467808963395279), (347, 'MATH', 0.25512851937852205)])\n"
     ]
    }
   ],
   "source": [
    "dif = calculate_difficulty('bench2@test.com', 120208)\n",
    "print(dif)\n",
    "breakdown = diff_breakdown('bench2@test.com', 120208)\n",
    "print(breakdown)"
   ]
  },
  {
   "cell_type": "code",
   "execution_count": 7,
   "metadata": {},
   "outputs": [
    {
     "data": {
      "text/plain": [
       "(0, 'success')"
      ]
     },
     "execution_count": 7,
     "metadata": {},
     "output_type": "execute_result"
    }
   ],
   "source": [
    "register('bench3@test.com', 'a', 'pswd')\n",
    "add_schedule('bench3@test.com',66445, 120208) #CS 374\n",
    "add_schedule('bench3@test.com',30109, 120208) #CS 411\n",
    "add_schedule('bench3@test.com',66403, 120208) #MATH 444\n",
    "add_schedule('bench3@test.com',36016, 120208) #CS 450\n",
    "add_schedule('bench3@test.com',70363, 120208) #CS 498DL"
   ]
  },
  {
   "cell_type": "code",
   "execution_count": 8,
   "metadata": {},
   "outputs": [
    {
     "name": "stdout",
     "output_type": "stream",
     "text": [
      "Parsed credit info: [3, 3, 3, 4, 3]\n",
      "Course IDs: [411, 450, 444, 374, 498]\n",
      "[411, 450, 444, 374, 498] ['CS', 'CS', 'MATH', 'CS', 'CS'] [3, 3, 3, 4, 3] [30109, 36016, 66403, 66445, 70363] [3.67158041958042, 2.912925170068027, 3.2065671641791043, 2.5436605890603086, 3.440888888888889] [2.9337, 2.9337, 3.0, 2.9337, 2.9337]\n",
      "(0, 11.37984691146682)\n",
      "Parsed credit info: [3, 3, 3, 4, 3]\n",
      "Course IDs: [411, 450, 444, 374, 498]\n",
      "[411, 450, 444, 374, 498] ['CS', 'CS', 'MATH', 'CS', 'CS'] [3, 3, 3, 4, 3] [30109, 36016, 66403, 66445, 70363] [3.67158041958042, 2.912925170068027, 3.2065671641791043, 2.5436605890603086, 3.440888888888889] [2.9337, 2.9337, 3.0, 2.9337, 2.9337]\n",
      "(0, [(411, 'CS', 0.0722482003570584), (450, 'CS', 0.2391428672300864), (444, 'MATH', 0.1784899283359235), (374, 'CS', 0.38712155208029425), (498, 'CS', 0.12299745199663736)])\n"
     ]
    }
   ],
   "source": [
    "dif = calculate_difficulty('bench3@test.com', 120208)\n",
    "print(dif)\n",
    "breakdown = diff_breakdown('bench3@test.com', 120208)\n",
    "print(breakdown)"
   ]
  },
  {
   "cell_type": "code",
   "execution_count": 9,
   "metadata": {},
   "outputs": [
    {
     "data": {
      "text/plain": [
       "(0, 'success')"
      ]
     },
     "execution_count": 9,
     "metadata": {},
     "output_type": "execute_result"
    }
   ],
   "source": [
    "register('bench4@test.com', 'a', 'pswd')\n",
    "add_schedule('bench4@test.com',36218, 120208) #ECON 102\n",
    "add_schedule('bench4@test.com',63130, 120208) #RST 242\n",
    "add_schedule('bench4@test.com',30109, 120208) #CS 411\n",
    "add_schedule('bench4@test.com',36016, 120208) #CS 450\n",
    "add_schedule('bench4@test.com',70363, 120208) #CS 498DL"
   ]
  },
  {
   "cell_type": "code",
   "execution_count": 10,
   "metadata": {},
   "outputs": [
    {
     "name": "stdout",
     "output_type": "stream",
     "text": [
      "Parsed credit info: [3, 3, 3, 3, 3]\n",
      "Course IDs: [411, 450, 102, 242, 498]\n",
      "[411, 450, 102, 242, 498] ['CS', 'CS', 'ECON', 'RST', 'CS'] [3, 3, 3, 3, 3] [30109, 36016, 36218, 63130, 70363] [3.67158041958042, 2.912925170068027, 3.6273735408560315, 3.6592201462225833, 3.440888888888889] [2.9337, 2.9337, 2.1224, 2.9337, 2.9337]\n",
      "(0, 5.738900859929556)\n",
      "Parsed credit info: [3, 3, 3, 3, 3]\n",
      "Course IDs: [411, 450, 102, 242, 498]\n",
      "[411, 450, 102, 242, 498] ['CS', 'CS', 'ECON', 'RST', 'CS'] [3, 3, 3, 3, 3] [30109, 36016, 36218, 63130, 70363] [3.67158041958042, 2.912925170068027, 3.6273735408560315, 3.6592201462225833, 3.440888888888889] [2.9337, 2.9337, 2.1224, 2.9337, 2.9337]\n",
      "(0, [(411, 'CS', 0.134309275813313), (450, 'CS', 0.4445661643453551), (102, 'ECON', 0.07923919393437616), (242, 'RST', 0.11323332166351475), (498, 'CS', 0.22865204424344085)])\n"
     ]
    }
   ],
   "source": [
    "dif = calculate_difficulty('bench4@test.com', 120208)\n",
    "print(dif)\n",
    "breakdown = diff_breakdown('bench4@test.com', 120208)\n",
    "print(breakdown)"
   ]
  },
  {
   "cell_type": "code",
   "execution_count": 11,
   "metadata": {},
   "outputs": [
    {
     "data": {
      "text/plain": [
       "(0, 'success')"
      ]
     },
     "execution_count": 11,
     "metadata": {},
     "output_type": "execute_result"
    }
   ],
   "source": [
    "register('bench5@test.com', 'a', 'pswd')\n",
    "add_schedule('bench5@test.com',36218, 120208) #ECON 102\n",
    "add_schedule('bench5@test.com',63130, 120208) #RST 242\n",
    "add_schedule('bench5@test.com',57746, 120208) #DANC 100\n",
    "add_schedule('bench5@test.com',41758, 120208) #AAS 100\n",
    "add_schedule('bench5@test.com',37825, 120208) #ECON 103"
   ]
  },
  {
   "cell_type": "code",
   "execution_count": 12,
   "metadata": {},
   "outputs": [
    {
     "name": "stdout",
     "output_type": "stream",
     "text": [
      "Parsed credit info: [3, 3, 3, 3, 3]\n",
      "Course IDs: [102, 103, 100, 100, 242]\n",
      "[102, 103, 100, 100, 242] ['ECON', 'ECON', 'AAS', 'DANC', 'RST'] [3, 3, 3, 3, 3] [36218, 37825, 41758, 57746, 63130] [3.6273735408560315, 3.003252393980848, 3.9190909090909085, 3.7334808510638298, 3.6592201462225833] [2.1224, 2.9484, 1.3333, 2.9337, 2.9337]\n",
      "(0, 3.3060107121222924)\n",
      "Parsed credit info: [3, 3, 3, 3, 3]\n",
      "Course IDs: [102, 103, 100, 100, 242]\n",
      "[102, 103, 100, 100, 242] ['ECON', 'ECON', 'AAS', 'DANC', 'RST'] [3, 3, 3, 3, 3] [36218, 37825, 41758, 57746, 63130] [3.6273735408560315, 3.003252393980848, 3.9190909090909085, 3.7334808510638298, 3.6592201462225833] [2.1224, 2.9484, 1.3333, 2.9337, 2.9337]\n",
      "(0, [(102, 'ECON', 0.1375512416044751), (103, 'ECON', 0.511134495939873), (100, 'AAS', 0.0187624172073261), (100, 'DANC', 0.13599022955704926), (242, 'RST', 0.19656161569127634)])\n"
     ]
    }
   ],
   "source": [
    "dif = calculate_difficulty('bench5@test.com', 120208)\n",
    "print(dif)\n",
    "breakdown = diff_breakdown('bench5@test.com', 120208)\n",
    "print(breakdown)"
   ]
  },
  {
   "cell_type": "code",
   "execution_count": null,
   "metadata": {},
   "outputs": [],
   "source": []
  },
  {
   "cell_type": "code",
   "execution_count": null,
   "metadata": {},
   "outputs": [],
   "source": []
  },
  {
   "cell_type": "code",
   "execution_count": 3,
   "metadata": {},
   "outputs": [
    {
     "name": "stdout",
     "output_type": "stream",
     "text": [
      "(0, ((39529, 441, 'MATH', 'Online', None, None, None, None, None), (40317, 411, 'CS', 'Online Lecture', datetime.timedelta(0, 39600), datetime.timedelta(0, 44100), 'MTWR', None, None)))\n",
      "(0, ((441, 'MATH', 3), (411, 'CS', 3)))\n"
     ]
    }
   ],
   "source": [
    "sche =  get_schedule('jyh@test.com')\n",
    "print(sche)\n",
    "sections = get_usr_sections('jyh@test.com')\n",
    "print(sections)"
   ]
  },
  {
   "cell_type": "code",
   "execution_count": null,
   "metadata": {},
   "outputs": [],
   "source": [
    "calculate_difficulty('jyh@test.com')"
   ]
  },
  {
   "cell_type": "code",
   "execution_count": 15,
   "metadata": {
    "scrolled": true
   },
   "outputs": [
    {
     "name": "stdout",
     "output_type": "stream",
     "text": [
      "((38251, 104, 'CHEM', None),)\n"
     ]
    },
    {
     "data": {
      "text/plain": [
       "(0, 'Success')"
      ]
     },
     "execution_count": 15,
     "metadata": {},
     "output_type": "execute_result"
    }
   ],
   "source": [
    "# res = delete_schedule('jyh@test.com',40317)\n",
    "# print(res)\n",
    "# res = delete_schedule('jyh@test.com',36797)\n",
    "# print(res)\n",
    "# res = delete_schedule('jyh@test.com',36796)\n",
    "print(res)\n",
    "delete_account('jyh@test.com')"
   ]
  },
  {
   "cell_type": "code",
   "execution_count": 2,
   "metadata": {},
   "outputs": [
    {
     "name": "stdout",
     "output_type": "stream",
     "text": [
      "(1, '(1062, \"Duplicate entry \\'jyh@test.com\\' for key \\'Email\\'\")')\n",
      "(1, '(1062, \"Duplicate entry \\'jyh@test.com\\' for key \\'Email\\'\")')\n",
      "(1, 'Empty field')\n",
      "(1, '(1062, \"Duplicate entry \\'164c6eb0-cedf-11ea-8f1c-06f7f522912b-120205-40317\\' for key \\'PRIMARY\\'\")')\n",
      "(1, '(1062, \"Duplicate entry \\'164c6eb0-cedf-11ea-8f1c-06f7f522912b-120205-40317\\' for key \\'PRIMARY\\'\")')\n",
      "(1, '(1062, \"Duplicate entry \\'164c6eb0-cedf-11ea-8f1c-06f7f522912b-120201-70363\\' for key \\'PRIMARY\\'\")')\n",
      "(1, \"User doesn't exist\")\n",
      "(1, 'Empty field')\n",
      "(1, \"(1452, 'Cannot add or update a child row: a foreign key constraint fails (`illini_db`.`Enrollments`, CONSTRAINT `Enrollments_ibfk_3` FOREIGN KEY (`CRN`) REFERENCES `Sections` (`CRN`) ON DELETE CASCADE ON UPDATE CASCADE)')\")\n"
     ]
    }
   ],
   "source": [
    "# Insert queries\n",
    "# Insert into users\n",
    "res = register('jyh@test.com', 'a', 'pswd')#register\n",
    "print(res)\n",
    "res = register('jyh@test.com', 'a', 'pswd')#register duplicate\n",
    "print(res)\n",
    "res = register('', 'a', 'pswd')#invalid entry\n",
    "print(res)\n",
    "\n",
    "# Insert into enrollments\n",
    "res = add_schedule('jyh@test.com',40317) # add cs411 su20\n",
    "print(res)\n",
    "res = add_schedule('jyh@test.com',40317) # add duplicate\n",
    "print(res)\n",
    "res = add_schedule('jyh@test.com',70363,120201) \n",
    "# add npre412 sp20, intended to add fa20 data, but api is closed\n",
    "print(res)\n",
    "res = add_schedule('wtf@test.com',40317) # email does not exists\n",
    "print(res)\n",
    "res = add_schedule('',40317) #E-mail does not exist\n",
    "print(res)\n",
    "res = add_schedule('jyh@test.com',0) #crn does not exist\n",
    "print(res)"
   ]
  },
  {
   "cell_type": "code",
   "execution_count": 3,
   "metadata": {},
   "outputs": [
    {
     "name": "stdout",
     "output_type": "stream",
     "text": [
      "(0, 'Success')\n",
      "(0, 'Success')\n",
      "(1, 'Empty field')\n",
      "(0, 'Success')\n"
     ]
    }
   ],
   "source": [
    "# Update queries\n",
    "res = update_name('jyh@test.com', 'xs')#change name\n",
    "print(res)\n",
    "res = update_name('jyh@test.com', 'xsw')#change name again\n",
    "print(res)\n",
    "res = update_name('','')#invalid input\n",
    "print(res)\n",
    "res = update_name('2333@666.com', 'hh')\n",
    "#This entry dne, function returns success but no entry modified.\n",
    "#Does not affect db so I'm not enforcing it\n",
    "print(res)"
   ]
  },
  {
   "cell_type": "code",
   "execution_count": 4,
   "metadata": {},
   "outputs": [
    {
     "name": "stdout",
     "output_type": "stream",
     "text": [
      "(0, ((36796, 173, 'CS', 'Online Lecture', datetime.timedelta(0, 39600), datetime.timedelta(0, 44100), 'MTWR', None, None), (36797, 173, 'CS', 'Online Discussion', datetime.timedelta(0, 46800), datetime.timedelta(0, 49800), 'MW', None, None), (40317, 411, 'CS', 'Online Lecture', datetime.timedelta(0, 39600), datetime.timedelta(0, 44100), 'MTWR', None, None)))\n",
      "(1, \"User doesn't exist\")\n",
      "(0, ((Decimal('6'),),))\n",
      "(0, ((40317, 411, 'CS', 'Online Lecture', datetime.timedelta(0, 39600), datetime.timedelta(0, 44100), 'MTWR', None, None), (40318, 411, 'CS', 'Online Lecture', datetime.timedelta(0, 39600), datetime.timedelta(0, 44100), 'MTWR', None, None)))\n",
      "(0, ((31352, 411, 'CS', 'Lecture-Discussion', datetime.timedelta(0, 50400), datetime.timedelta(0, 54900), 'TR', 'Natural History Building', 2079), (31355, 411, 'CS', 'Lecture-Discussion', datetime.timedelta(0, 50400), datetime.timedelta(0, 54900), 'TR', 'Natural History Building', 2079), (40658, 411, 'CS', 'Online', None, None, None, None, None), (67992, 411, 'CS', 'Online', None, None, None, None, None), (69453, 411, 'CS', 'Online', None, None, None, None, None)))\n"
     ]
    },
    {
     "data": {
      "text/plain": [
       "(0, 'Success')"
      ]
     },
     "execution_count": 4,
     "metadata": {},
     "output_type": "execute_result"
    }
   ],
   "source": [
    "# Search query\n",
    "add_schedule('jyh@test.com',36797)\n",
    "add_schedule('jyh@test.com',36796)\n",
    "\n",
    "res = get_schedule('jyh@test.com')\n",
    "print(res)\n",
    "res = get_schedule('zch@test.com') # this account does not exist\n",
    "print(res)\n",
    "\n",
    "res = get_total_credit_hour('jyh@test.com')\n",
    "print(res)\n",
    "res = get_total_credit_hour('zch@test.com')\n",
    "\n",
    "res = get_class_section('CS', 411) # get all sections on cs411 summer\n",
    "print(res)\n",
    "res = get_class_section('CS', 411, 120201) \n",
    "# get all sections on cs233 sp20, fa20 data can't be requested now\n",
    "print(res)\n",
    "\n",
    "delete_schedule('jyh@test.com', 36797)\n",
    "delete_schedule('jyh@test.com', 36796)"
   ]
  },
  {
   "cell_type": "code",
   "execution_count": 5,
   "metadata": {},
   "outputs": [
    {
     "name": "stdout",
     "output_type": "stream",
     "text": [
      "(0, 'Success')\n",
      "(0, 'Success')\n",
      "(0, 'Success')\n",
      "(1, \"User doesn't exist\")\n",
      "(1, 'Empty field')\n",
      "(0, 'Success')\n",
      "(0, 'Success')\n",
      "(0, 'Success')\n",
      "(1, 'Empty field')\n"
     ]
    }
   ],
   "source": [
    "# Delete queries\n",
    "# Delete schedule\n",
    "res = delete_schedule('jyh@test.com',40317) # delete cs411 su20\n",
    "print(res)\n",
    "res = delete_schedule('jyh@test.com',40317) # double delete\n",
    "print(res)\n",
    "res = delete_schedule('jyh@test.com',70363,120208) # delete cs498dl fa20\n",
    "print(res)\n",
    "# email does not exist,would say success, but db not altered\n",
    "res = delete_schedule('wtf@test.com',40317)\n",
    "print(res)\n",
    "res = delete_schedule('',0) #invalid entry\n",
    "print(res)\n",
    "\n",
    "# Delete account\n",
    "res = delete_account('jyh@test.com') \n",
    "print(res)\n",
    "res = delete_account('jyh@test.com') #delete twice\n",
    "print(res)\n",
    "#invalid delete, would say success, but db not altered\n",
    "res = delete_account('wtf@test.com')\n",
    "print(res)\n",
    "res = delete_account('')\n",
    "print(res)"
   ]
  },
  {
   "cell_type": "code",
   "execution_count": 7,
   "metadata": {},
   "outputs": [
    {
     "data": {
      "text/plain": [
       "0"
      ]
     },
     "execution_count": 7,
     "metadata": {},
     "output_type": "execute_result"
    }
   ],
   "source": [
    "len(())"
   ]
  },
  {
   "cell_type": "code",
   "execution_count": null,
   "metadata": {},
   "outputs": [],
   "source": []
  }
 ],
 "metadata": {
  "kernelspec": {
   "display_name": "Python 3",
   "language": "python",
   "name": "python3"
  },
  "language_info": {
   "codemirror_mode": {
    "name": "ipython",
    "version": 3
   },
   "file_extension": ".py",
   "mimetype": "text/x-python",
   "name": "python",
   "nbconvert_exporter": "python",
   "pygments_lexer": "ipython3",
   "version": "3.6.9"
  }
 },
 "nbformat": 4,
 "nbformat_minor": 4
}
