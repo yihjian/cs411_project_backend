{
 "cells": [
  {
   "cell_type": "code",
   "execution_count": 20,
   "metadata": {},
   "outputs": [],
   "source": [
    "from mysql.connector import cursor\n",
    "from src.query import *"
   ]
  },
  {
   "cell_type": "code",
   "execution_count": 2,
   "metadata": {},
   "outputs": [
    {
     "name": "stdout",
     "output_type": "stream",
     "text": [
      "(0, 'Sucess')\n",
      "(1, '(1062, \"Duplicate entry \\'jyh@test.com\\' for key \\'Email\\'\")')\n",
      "(1, 'Empty field')\n",
      "(0, 'sucess')\n",
      "(1, '(1062, \"Duplicate entry \\'f081d915-cdc1-11ea-8f1c-06f7f522912b-120205-40317\\' for key \\'PRIMARY\\'\")')\n",
      "(0, 'sucess')\n",
      "(1, \"User doesn't exist\")\n",
      "(1, 'Empty field')\n",
      "(1, \"(1452, 'Cannot add or update a child row: a foreign key constraint fails (`illini_db`.`Enrollments`, CONSTRAINT `Enrollments_ibfk_3` FOREIGN KEY (`CRN`) REFERENCES `Sections` (`CRN`) ON DELETE CASCADE ON UPDATE CASCADE)')\")\n"
     ]
    }
   ],
   "source": [
    "# Insert queries\n",
    "# Insert into users\n",
    "res = register('jyh@test.com', 'a', 'pswd')#register\n",
    "print(res)\n",
    "res = register('jyh@test.com', 'a', 'pswd')#register duplicate\n",
    "print(res)\n",
    "res = register('', 'a', 'pswd')#invalid entry\n",
    "print(res)\n",
    "# Insert into enrollments\n",
    "res = add_schedule('jyh@test.com',40317) # add cs411 su20\n",
    "print(res)\n",
    "res = add_schedule('jyh@test.com',40317) # add duplicate\n",
    "print(res)\n",
    "res = add_schedule('jyh@test.com',70363,120208) \n",
    "# add npre412 sp20, intended to add fa20 data, but api is closed\n",
    "print(res)\n",
    "res = add_schedule('wtf@test.com',40317) # email does not exists\n",
    "print(res)\n",
    "res = add_schedule('',40317) #E-mail does not exist\n",
    "print(res)\n",
    "res = add_schedule('jyh@test.com',0) #crn does not exist\n",
    "print(res)"
   ]
  },
  {
   "cell_type": "code",
   "execution_count": 3,
   "metadata": {},
   "outputs": [
    {
     "name": "stdout",
     "output_type": "stream",
     "text": [
      "(0, 'Sucess')\n",
      "(0, 'Sucess')\n",
      "(1, 'Empty field')\n",
      "(0, 'Sucess')\n"
     ]
    }
   ],
   "source": [
    "# Update queries\n",
    "res = update_name('jyh@test.com', 'xs')#change name\n",
    "print(res)\n",
    "res = update_name('jyh@test.com', 'xsw')#change name again\n",
    "print(res)\n",
    "res = update_name('','')#invalid input\n",
    "print(res)\n",
    "res = update_name('2333@666.com', 'hh')\n",
    "#This entry dne, function returns success but no entry modified.\n",
    "#Does not affect db so I'm not enforcing it\n",
    "print(res)"
   ]
  },
  {
   "cell_type": "code",
   "execution_count": 8,
   "metadata": {},
   "outputs": [
    {
     "name": "stdout",
     "output_type": "stream",
     "text": [
      "(0, ((36796, 173, 'CS', 'Online Lecture', datetime.timedelta(0, 39600), datetime.timedelta(0, 44100), 'MTWR', None, None), (36797, 173, 'CS', 'Online Discussion', datetime.timedelta(0, 46800), datetime.timedelta(0, 49800), 'MW', None, None), (40317, 411, 'CS', 'Online Lecture', datetime.timedelta(0, 39600), datetime.timedelta(0, 44100), 'MTWR', None, None)))\n",
      "(1, \"User doesn't exist\")\n",
      "(0, ((40317, 411, 'CS', 'Online Lecture', datetime.timedelta(0, 39600), datetime.timedelta(0, 44100), 'MTWR', None, None), (40318, 411, 'CS', 'Online Lecture', datetime.timedelta(0, 39600), datetime.timedelta(0, 44100), 'MTWR', None, None)))\n",
      "(0, ((61689, 233, 'CS', 'Lecture', datetime.timedelta(0, 32400), datetime.timedelta(0, 35400), 'MWF', 'Digital Computer Laboratory', 1320), (61690, 233, 'CS', 'Discussion/Recitation', datetime.timedelta(0, 57600), datetime.timedelta(0, 60600), 'M', 'Siebel Center for Comp Sci', 1111), (61690, 233, 'CS', 'Laboratory', datetime.timedelta(0, 61200), datetime.timedelta(0, 64200), 'M', 'Siebel Center for Comp Sci', 218), (61691, 233, 'CS', 'Discussion/Recitation', datetime.timedelta(0, 50400), datetime.timedelta(0, 53400), 'T', 'Siebel Center for Comp Sci', 1111), (61691, 233, 'CS', 'Laboratory', datetime.timedelta(0, 54000), datetime.timedelta(0, 57000), 'T', 'Siebel Center for Comp Sci', 218), (61692, 233, 'CS', 'Discussion/Recitation', datetime.timedelta(0, 54000), datetime.timedelta(0, 57000), 'T', 'Siebel Center for Comp Sci', 1111), (61692, 233, 'CS', 'Laboratory', datetime.timedelta(0, 57600), datetime.timedelta(0, 60600), 'T', 'Siebel Center for Comp Sci', 218), (61693, 233, 'CS', 'Discussion/Recitation', datetime.timedelta(0, 39600), datetime.timedelta(0, 42600), 'T', 'Siebel Center for Comp Sci', 1111), (61693, 233, 'CS', 'Laboratory', datetime.timedelta(0, 43200), datetime.timedelta(0, 46200), 'T', 'Siebel Center for Comp Sci', 218), (61694, 233, 'CS', 'Discussion/Recitation', datetime.timedelta(0, 43200), datetime.timedelta(0, 46200), 'T', 'Siebel Center for Comp Sci', 1111), (61694, 233, 'CS', 'Laboratory', datetime.timedelta(0, 46800), datetime.timedelta(0, 49800), 'T', 'Siebel Center for Comp Sci', 218), (61695, 233, 'CS', 'Discussion/Recitation', datetime.timedelta(0, 46800), datetime.timedelta(0, 49800), 'T', 'Siebel Center for Comp Sci', 1111), (61695, 233, 'CS', 'Laboratory', datetime.timedelta(0, 50400), datetime.timedelta(0, 53400), 'T', 'Siebel Center for Comp Sci', 218), (61696, 233, 'CS', 'Discussion/Recitation', datetime.timedelta(0, 36000), datetime.timedelta(0, 39000), 'T', 'Siebel Center for Comp Sci', 1111), (61696, 233, 'CS', 'Laboratory', datetime.timedelta(0, 39600), datetime.timedelta(0, 42600), 'T', 'Siebel Center for Comp Sci', 218), (61820, 233, 'CS', 'Discussion/Recitation', datetime.timedelta(0, 54000), datetime.timedelta(0, 57000), 'M', 'Siebel Center for Comp Sci', 1111), (61820, 233, 'CS', 'Laboratory', datetime.timedelta(0, 57600), datetime.timedelta(0, 60600), 'M', 'Siebel Center for Comp Sci', 218), (61822, 233, 'CS', 'Discussion/Recitation', datetime.timedelta(0, 57600), datetime.timedelta(0, 60600), 'T', 'Siebel Center for Comp Sci', 1111), (61822, 233, 'CS', 'Laboratory', datetime.timedelta(0, 61200), datetime.timedelta(0, 64200), 'T', 'Siebel Center for Comp Sci', 218), (61823, 233, 'CS', 'Discussion/Recitation', datetime.timedelta(0, 32400), datetime.timedelta(0, 35400), 'T', 'Siebel Center for Comp Sci', 1111), (61823, 233, 'CS', 'Laboratory', datetime.timedelta(0, 36000), datetime.timedelta(0, 39000), 'T', 'Siebel Center for Comp Sci', 218), (61827, 233, 'CS', 'Lecture', datetime.timedelta(0, 36000), datetime.timedelta(0, 39000), 'MWF', 'Digital Computer Laboratory', 1310), (70584, 233, 'CS', 'Lecture', datetime.timedelta(0, 32400), datetime.timedelta(0, 35400), 'MWF', 'Digital Computer Laboratory', 1320), (70586, 233, 'CS', 'Lecture', datetime.timedelta(0, 36000), datetime.timedelta(0, 39000), 'MWF', 'Digital Computer Laboratory', 1310)))\n"
     ]
    },
    {
     "data": {
      "text/plain": [
       "(0, 'Sucess')"
      ]
     },
     "execution_count": 8,
     "metadata": {},
     "output_type": "execute_result"
    }
   ],
   "source": [
    "# Search query\n",
    "add_schedule('jyh@test.com',36797)\n",
    "add_schedule('jyh@test.com',36796)\n",
    "res = get_schedule('jyh@test.com')\n",
    "print(res)\n",
    "res = get_schedule('zch@test.com') # this account does not exist\n",
    "print(res)\n",
    "res = get_class_section('CS', 411) # get all sections on cs411 summer\n",
    "print(res)\n",
    "res = get_class_section('CS', 233, 120201) \n",
    "# get all sections on cs233 sp20, fa20 data can't be requested now\n",
    "print(res)\n",
    "delete_schedule('jyh@test.com', 36797)\n",
    "delete_schedule('jyh@test.com', 36796)"
   ]
  },
  {
   "cell_type": "code",
   "execution_count": 9,
   "metadata": {},
   "outputs": [
    {
     "name": "stdout",
     "output_type": "stream",
     "text": [
      "(0, 'Sucess')\n",
      "(0, 'Sucess')\n",
      "(0, 'Sucess')\n",
      "(1, \"User doesn't exist\")\n",
      "(1, 'Empty field')\n",
      "(0, 'Sucess')\n",
      "(0, 'Sucess')\n",
      "(0, 'Sucess')\n",
      "(1, 'Empty field')\n"
     ]
    }
   ],
   "source": [
    "# Delete queries\n",
    "# Delete schedule\n",
    "res = delete_schedule('jyh@test.com',40317) # delete cs411 su20\n",
    "print(res)\n",
    "res = delete_schedule('jyh@test.com',40317) # double delete\n",
    "print(res)\n",
    "res = delete_schedule('jyh@test.com',70363,120208) # delete cs498dl fa20\n",
    "print(res)\n",
    "# email does not exist,would say success, but db not altered\n",
    "res = delete_schedule('wtf@test.com',40317)\n",
    "print(res)\n",
    "res = delete_schedule('',0) #invalid entry\n",
    "print(res)\n",
    "# Delete account\n",
    "res = delete_account('jyh@test.com') \n",
    "print(res)\n",
    "res = delete_account('jyh@test.com') #delete twice\n",
    "print(res)\n",
    "#invalid delete, would say success, but db not altered\n",
    "res = delete_account('wtf@test.com')\n",
    "print(res)\n",
    "res = delete_account('')\n",
    "print(res)"
   ]
  },
  {
   "cell_type": "code",
   "execution_count": 26,
   "metadata": {},
   "outputs": [
    {
     "data": {
      "text/plain": [
       "(0, 'sucess')"
      ]
     },
     "execution_count": 26,
     "metadata": {},
     "output_type": "execute_result"
    }
   ],
   "source": [
    "#register('jyh@test.com', 'a', 'pswd')\n",
    "add_schedule('jyh@test.com',36797)\n",
    "add_schedule('jyh@test.com',36796)\n",
    "add_schedule('jyh@test.com',40317)"
   ]
  },
  {
   "cell_type": "code",
   "execution_count": 25,
   "metadata": {},
   "outputs": [
    {
     "data": {
      "text/plain": [
       "(0, 'Sucess')"
      ]
     },
     "execution_count": 25,
     "metadata": {},
     "output_type": "execute_result"
    }
   ],
   "source": [
    "delete_schedule('jyh@test.com', 36797)\n",
    "delete_schedule('jyh@test.com', 36796)\n",
    "delete_schedule('jyh@test.com',40317)"
   ]
  },
  {
   "cell_type": "code",
   "execution_count": 7,
   "metadata": {},
   "outputs": [
    {
     "data": {
      "text/plain": [
       "()"
      ]
     },
     "execution_count": 7,
     "metadata": {},
     "output_type": "execute_result"
    }
   ],
   "source": [
    "query = \"SELECT * FROM Sections WHERE CRN = 120208\"\n",
    "cursor.execute(query)\n",
    "res = cursor.fetchall()\n",
    "res"
   ]
  },
  {
   "cell_type": "code",
   "execution_count": 37,
   "metadata": {},
   "outputs": [],
   "source": [
    "import datetime"
   ]
  },
  {
   "cell_type": "code",
   "execution_count": 39,
   "metadata": {},
   "outputs": [
    {
     "name": "stdout",
     "output_type": "stream",
     "text": [
      "13:00:00\n"
     ]
    }
   ],
   "source": [
    "print(str(datetime.timedelta(0,46800)))"
   ]
  },
  {
   "cell_type": "code",
   "execution_count": 27,
   "metadata": {},
   "outputs": [],
   "source": [
    "tmp = (0, res)"
   ]
  },
  {
   "cell_type": "code",
   "execution_count": 31,
   "metadata": {},
   "outputs": [
    {
     "ename": "AttributeError",
     "evalue": "'tuple' object has no attribute 'asarray'",
     "output_type": "error",
     "traceback": [
      "\u001B[0;31m---------------------------------------------------------------------------\u001B[0m",
      "\u001B[0;31mAttributeError\u001B[0m                            Traceback (most recent call last)",
      "\u001B[0;32m<ipython-input-31-c182f15685f7>\u001B[0m in \u001B[0;36m<module>\u001B[0;34m\u001B[0m\n\u001B[0;32m----> 1\u001B[0;31m \u001B[0mtmp\u001B[0m\u001B[0;34m[\u001B[0m\u001B[0;36m1\u001B[0m\u001B[0;34m]\u001B[0m\u001B[0;34m.\u001B[0m\u001B[0masarray\u001B[0m\u001B[0;34m(\u001B[0m\u001B[0;34m)\u001B[0m\u001B[0;34m\u001B[0m\u001B[0;34m\u001B[0m\u001B[0m\n\u001B[0m",
      "\u001B[0;31mAttributeError\u001B[0m: 'tuple' object has no attribute 'asarray'"
     ]
    }
   ],
   "source": [
    "tmp[1].asarray()"
   ]
  },
  {
   "cell_type": "code",
   "execution_count": 1,
   "metadata": {},
   "outputs": [],
   "source": [
    "import re"
   ]
  },
  {
   "cell_type": "code",
   "execution_count": 15,
   "metadata": {},
   "outputs": [
    {
     "data": {
      "text/plain": [
       "['ECON', '102']"
      ]
     },
     "execution_count": 15,
     "metadata": {},
     "output_type": "execute_result"
    }
   ],
   "source": [
    "parsedClsCode = re.findall('(\\d+|\\D+)','ECON102')\n",
    "parsedClsCode"
   ]
  },
  {
   "cell_type": "code",
   "execution_count": 17,
   "metadata": {},
   "outputs": [],
   "source": [
    "assert(len(parsedClsCode) == 2)"
   ]
  },
  {
   "cell_type": "code",
   "execution_count": null,
   "metadata": {},
   "outputs": [],
   "source": []
  }
 ],
 "metadata": {
  "kernelspec": {
   "display_name": "Python 3",
   "language": "python",
   "name": "python3"
  },
  "language_info": {
   "codemirror_mode": {
    "name": "ipython",
    "version": 3
   },
   "file_extension": ".py",
   "mimetype": "text/x-python",
   "name": "python",
   "nbconvert_exporter": "python",
   "pygments_lexer": "ipython3",
   "version": "3.6.9"
  }
 },
 "nbformat": 4,
 "nbformat_minor": 4
}