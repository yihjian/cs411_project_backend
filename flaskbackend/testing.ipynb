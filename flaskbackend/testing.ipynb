{
 "cells": [
  {
   "cell_type": "code",
   "execution_count": 1,
   "metadata": {},
   "outputs": [],
   "source": [
    "from query import *"
   ]
  },
  {
   "cell_type": "code",
   "execution_count": 2,
   "metadata": {},
   "outputs": [
    {
     "name": "stdout",
     "output_type": "stream",
     "text": [
      "(1, '(1062, \"Duplicate entry \\'jyh@test.com\\' for key \\'Email\\'\")')\n",
      "(1, '(1062, \"Duplicate entry \\'jyh@test.com\\' for key \\'Email\\'\")')\n",
      "(1, 'Empty field')\n",
      "(1, '(1062, \"Duplicate entry \\'b52299ad-ccfe-11ea-8f1c-06f7f522912b-120205-40317\\' for key \\'PRIMARY\\'\")')\n",
      "(1, '(1062, \"Duplicate entry \\'b52299ad-ccfe-11ea-8f1c-06f7f522912b-120205-40317\\' for key \\'PRIMARY\\'\")')\n",
      "(1, '(1062, \"Duplicate entry \\'b52299ad-ccfe-11ea-8f1c-06f7f522912b-120208-70363\\' for key \\'PRIMARY\\'\")')\n",
      "(1, \"User doesn't exist\")\n",
      "(1, 'Empty field')\n",
      "(1, \"(1452, 'Cannot add or update a child row: a foreign key constraint fails (`illini_db`.`Enrollments`, CONSTRAINT `Enrollments_ibfk_3` FOREIGN KEY (`CRN`) REFERENCES `Sections` (`CRN`) ON DELETE CASCADE ON UPDATE CASCADE)')\")\n"
     ]
    }
   ],
   "source": [
    "# Insert queries\n",
    "# Insert into users\n",
    "res = register('jyh@test.com', 'a', 'pswd')#register\n",
    "print(res)\n",
    "res = register('jyh@test.com', 'a', 'pswd')#register duplicate\n",
    "print(res)\n",
    "res = register('', 'a', 'pswd')#invalid entry\n",
    "print(res)\n",
    "# Insert into enrollments\n",
    "res = addSchedule('jyh@test.com',40317) # add cs411 su20\n",
    "print(res)\n",
    "res = addSchedule('jyh@test.com',40317) # add duplicate\n",
    "print(res)\n",
    "res = addSchedule('jyh@test.com',70363,120208) # add cs498dl fa20\n",
    "print(res)\n",
    "res = addSchedule('wtf@test.com',40317) # email does not exists\n",
    "print(res)\n",
    "res = addSchedule('',40317) #E-mail does not exist\n",
    "print(res)\n",
    "res = addSchedule('jyh@test.com',0) #crn does not exist\n",
    "print(res)"
   ]
  },
  {
   "cell_type": "code",
   "execution_count": 3,
   "metadata": {},
   "outputs": [
    {
     "name": "stdout",
     "output_type": "stream",
     "text": [
      "(1, '(1142, \"DELETE command denied to user \\'yihong\\'@\\'66.253.228.104\\' for table \\'Enrollments\\'\")')\n",
      "(1, '(1142, \"DELETE command denied to user \\'yihong\\'@\\'66.253.228.104\\' for table \\'Enrollments\\'\")')\n",
      "(1, '(1142, \"DELETE command denied to user \\'yihong\\'@\\'66.253.228.104\\' for table \\'Enrollments\\'\")')\n",
      "(1, '(1142, \"DELETE command denied to user \\'yihong\\'@\\'66.253.228.104\\' for table \\'Enrollments\\'\")')\n",
      "(1, 'Empty field')\n",
      "(1, '(1142, \"DELETE command denied to user \\'yihong\\'@\\'66.253.228.104\\' for table \\'Users\\'\")')\n",
      "(1, '(1142, \"DELETE command denied to user \\'yihong\\'@\\'66.253.228.104\\' for table \\'Users\\'\")')\n",
      "(1, '(1142, \"DELETE command denied to user \\'yihong\\'@\\'66.253.228.104\\' for table \\'Users\\'\")')\n",
      "(1, 'Empty field')\n"
     ]
    }
   ],
   "source": [
    "# Delete queries\n",
    "# Delete schedule\n",
    "res = deleteSchedule('jyh@test.com',40317) # delete cs411 su20\n",
    "print(res)\n",
    "res = deleteSchedule('jyh@test.com',40317) # double delete\n",
    "print(res)\n",
    "res = deleteSchedule('jyh@test.com',70363,120208) # delete cs498dl fa20\n",
    "print(res)\n",
    "res = deleteSchedule('wtf@test.com',40317) # email does not exist\n",
    "print(res)\n",
    "res = deleteSchedule('',0) #invalid entry\n",
    "print(res)\n",
    "# Delete account\n",
    "res = deleteAccount('jyh@test.com') \n",
    "print(res)\n",
    "res = deleteAccount('jyh@test.com') #delete twice\n",
    "print(res)\n",
    "res = deleteAccount('wtf@test.com') #invalid delete\n",
    "print(res)\n",
    "res = deleteAccount('')\n",
    "print(res)"
   ]
  },
  {
   "cell_type": "code",
   "execution_count": 4,
   "metadata": {},
   "outputs": [
    {
     "name": "stdout",
     "output_type": "stream",
     "text": [
      "(0, 'Sucess')\n",
      "(0, 'Sucess')\n",
      "(1, 'Empty field')\n",
      "(0, 'Sucess')\n"
     ]
    }
   ],
   "source": [
    "#Update queries\n",
    "res = updateName('233@666.com', 'xs')#change name\n",
    "print(res)\n",
    "res = updateName('233@666.com', 'xsw')#change name again\n",
    "print(res)\n",
    "res = updateName('','')#invalid input\n",
    "print(res)\n",
    "res = updateName('2333@666.com', 'hh')\n",
    "#This entry dne, function returns success but no entry modified.\n",
    "#Does not affect db so I'm not enforcing it\n",
    "print(res)"
   ]
  },
  {
   "cell_type": "code",
   "execution_count": 2,
   "metadata": {},
   "outputs": [
    {
     "data": {
      "text/plain": [
       "(1, 'not all arguments converted during bytes formatting')"
      ]
     },
     "execution_count": 2,
     "metadata": {},
     "output_type": "execute_result"
    }
   ],
   "source": [
    "addSchedule('233@6666.com', 123456)"
   ]
  },
  {
   "cell_type": "code",
   "execution_count": 1,
   "metadata": {},
   "outputs": [],
   "source": [
    "from globalVar import db, defaultTerm"
   ]
  },
  {
   "cell_type": "code",
   "execution_count": 6,
   "metadata": {},
   "outputs": [
    {
     "name": "stdout",
     "output_type": "stream",
     "text": [
      "<class 'int'>\n"
     ]
    }
   ],
   "source": [
    "print(type(defaultTerm[0][0]))"
   ]
  },
  {
   "cell_type": "code",
   "execution_count": 8,
   "metadata": {},
   "outputs": [
    {
     "data": {
      "text/plain": [
       "str"
      ]
     },
     "execution_count": 8,
     "metadata": {},
     "output_type": "execute_result"
    }
   ],
   "source": [
    "type(''.strip())"
   ]
  },
  {
   "cell_type": "code",
   "execution_count": 6,
   "metadata": {},
   "outputs": [],
   "source": [
    "db, cursor = connectToDb()\n"
   ]
  },
  {
   "cell_type": "code",
   "execution_count": 10,
   "metadata": {},
   "outputs": [],
   "source": [
    "cursor.execute(\"SELECT UUID FROM Users WHERE Email = 'jyh@test.com'\")\n",
    "res = cursor.fetchall()"
   ]
  },
  {
   "cell_type": "code",
   "execution_count": 11,
   "metadata": {},
   "outputs": [
    {
     "data": {
      "text/plain": [
       "(('b52299ad-ccfe-11ea-8f1c-06f7f522912b',),)"
      ]
     },
     "execution_count": 11,
     "metadata": {},
     "output_type": "execute_result"
    }
   ],
   "source": [
    "res"
   ]
  },
  {
   "cell_type": "code",
   "execution_count": 12,
   "metadata": {},
   "outputs": [
    {
     "data": {
      "text/plain": [
       "1"
      ]
     },
     "execution_count": 12,
     "metadata": {},
     "output_type": "execute_result"
    }
   ],
   "source": [
    "query = \"INSERT INTO Enrollments VALUES(%s, %s, %s)\"\n",
    "val = (res[0][0], 120205, 40317)\n",
    "cursor.execute(query, val)"
   ]
  },
  {
   "cell_type": "code",
   "execution_count": 13,
   "metadata": {},
   "outputs": [],
   "source": [
    "db.commit()\n",
    "db.close()"
   ]
  },
  {
   "cell_type": "code",
   "execution_count": 3,
   "metadata": {},
   "outputs": [
    {
     "ename": "SyntaxError",
     "evalue": "invalid syntax (<ipython-input-3-e6a1facd19f3>, line 1)",
     "output_type": "error",
     "traceback": [
      "\u001b[0;36m  File \u001b[0;32m\"<ipython-input-3-e6a1facd19f3>\"\u001b[0;36m, line \u001b[0;32m1\u001b[0m\n\u001b[0;31m    ((,))\u001b[0m\n\u001b[0m      ^\u001b[0m\n\u001b[0;31mSyntaxError\u001b[0m\u001b[0;31m:\u001b[0m invalid syntax\n"
     ]
    }
   ],
   "source": []
  },
  {
   "cell_type": "code",
   "execution_count": null,
   "metadata": {},
   "outputs": [],
   "source": []
  }
 ],
 "metadata": {
  "kernelspec": {
   "display_name": "Python 3",
   "language": "python",
   "name": "python3"
  },
  "language_info": {
   "codemirror_mode": {
    "name": "ipython",
    "version": 3
   },
   "file_extension": ".py",
   "mimetype": "text/x-python",
   "name": "python",
   "nbconvert_exporter": "python",
   "pygments_lexer": "ipython3",
   "version": "3.6.9"
  }
 },
 "nbformat": 4,
 "nbformat_minor": 4
}
